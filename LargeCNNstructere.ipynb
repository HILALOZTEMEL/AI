{
  "nbformat": 4,
  "nbformat_minor": 0,
  "metadata": {
    "colab": {
      "name": "LargeCNNstructere.ipynb",
      "provenance": [],
      "authorship_tag": "ABX9TyMRaaZKWUGs6U8TQrnYmisp",
      "include_colab_link": true
    },
    "kernelspec": {
      "name": "python3",
      "display_name": "Python 3"
    },
    "language_info": {
      "name": "python"
    }
  },
  "cells": [
    {
      "cell_type": "markdown",
      "metadata": {
        "id": "view-in-github",
        "colab_type": "text"
      },
      "source": [
        "<a href=\"https://colab.research.google.com/github/HILALOZTEMEL/AI/blob/main/LargeCNNstructere.ipynb\" target=\"_parent\"><img src=\"https://colab.research.google.com/assets/colab-badge.svg\" alt=\"Open In Colab\"/></a>"
      ]
    },
    {
      "cell_type": "code",
      "execution_count": 1,
      "metadata": {
        "colab": {
          "base_uri": "https://localhost:8080/"
        },
        "id": "YF9TzvFdlnow",
        "outputId": "0bcfd240-cc64-4c60-8920-dae94729f139"
      },
      "outputs": [
        {
          "output_type": "stream",
          "name": "stdout",
          "text": [
            "Downloading data from https://storage.googleapis.com/tensorflow/tf-keras-datasets/mnist.npz\n",
            "11493376/11490434 [==============================] - 0s 0us/step\n",
            "11501568/11490434 [==============================] - 0s 0us/step\n"
          ]
        }
      ],
      "source": [
        "from keras.datasets import mnist\n",
        "from keras.models import Sequential\n",
        "from keras.layers import Dense\n",
        "from keras.layers import Dropout\n",
        "from keras.layers import Flatten\n",
        "from keras.layers.convolutional import Conv2D\n",
        "from keras.layers.convolutional import MaxPooling2D\n",
        "from keras.utils import np_utils\n",
        "\n",
        "#load data\n",
        "(X_train,y_train),(X_test,y_test)=mnist.load_data()\n",
        "\n",
        "#reshape to be [samples][width][height][channels]\n",
        "X_train=X_train.reshape(X_train.shape[0],28,28,1).astype('float32')\n",
        "X_test=X_test.reshape(X_test.shape[0],28,28,1).astype('float32')\n",
        "\n",
        "#normalize inputs from 0-255 to 0-1\n",
        "X_train=X_train/255\n",
        "X_test=X_test/255\n",
        "\n",
        "#one hot encode outputs\n",
        "y_train=np_utils.to_categorical(y_train)\n",
        "y_test=np_utils.to_categorical(y_test)\n",
        "num_classes=y_test.shape[1]\n",
        "\n"
      ]
    },
    {
      "cell_type": "code",
      "source": [
        "Ellipsis"
      ],
      "metadata": {
        "colab": {
          "base_uri": "https://localhost:8080/"
        },
        "id": "txMISrhyl58R",
        "outputId": "fdf8c320-5e4c-4fed-827e-512f6c1ed533"
      },
      "execution_count": 3,
      "outputs": [
        {
          "output_type": "execute_result",
          "data": {
            "text/plain": [
              "Ellipsis"
            ]
          },
          "metadata": {},
          "execution_count": 3
        }
      ]
    },
    {
      "cell_type": "code",
      "source": [
        "def larger_model():\n",
        "  #create model\n",
        "  model=Sequential()\n",
        "  model.add(Conv2D(30,(5,5),input_shape=(28,28,1),activation ='relu'))\n",
        "  model.add(MaxPooling2D(pool_size=(2,2)))\n",
        "  model.add(Conv2D(15,(3,3),activation ='relu'))\n",
        "  model.add(MaxPooling2D(pool_size=(2,2)))\n",
        "  model.add(Dropout(0.2))\n",
        "  model.add(Flatten())\n",
        "  model.add(Dense(128,activation='relu'))\n",
        "  model.add(Dense(50,activation='relu'))\n",
        "  model.add(Dense(num_classes,activation='softmax'))\n",
        "  \n",
        "  #compile model\n",
        "  model.compile(loss='categorical_crossentropy',optimizer='adam',metrics=['accuracy'])\n",
        "  return model"
      ],
      "metadata": {
        "id": "M_PsahlSmGXH"
      },
      "execution_count": 4,
      "outputs": []
    },
    {
      "cell_type": "code",
      "source": [
        "#build model\n",
        "model=larger_model()\n",
        "\n",
        "#fit the models\n",
        "model.fit(X_train,y_train,validation_data=(X_test,y_test),epochs=10,batch_size=200, verbose=2)\n",
        "\n",
        "#Finall evalution of the model\n",
        "\n",
        "scores = model.evaluate(X_test, y_test, verbose=0)\n",
        "print(\"CNN Error: %.2f%%\" % (100-scores[1]*100))"
      ],
      "metadata": {
        "colab": {
          "base_uri": "https://localhost:8080/"
        },
        "id": "NVVPe_d0nSQs",
        "outputId": "ac0b2e49-6b2f-4086-a62b-723501afe440"
      },
      "execution_count": 5,
      "outputs": [
        {
          "output_type": "stream",
          "name": "stdout",
          "text": [
            "Epoch 1/10\n",
            "300/300 - 36s - loss: 0.3846 - accuracy: 0.8819 - val_loss: 0.0847 - val_accuracy: 0.9756 - 36s/epoch - 122ms/step\n",
            "Epoch 2/10\n",
            "300/300 - 36s - loss: 0.0972 - accuracy: 0.9704 - val_loss: 0.0469 - val_accuracy: 0.9840 - 36s/epoch - 120ms/step\n",
            "Epoch 3/10\n",
            "300/300 - 35s - loss: 0.0703 - accuracy: 0.9783 - val_loss: 0.0457 - val_accuracy: 0.9855 - 35s/epoch - 117ms/step\n",
            "Epoch 4/10\n",
            "300/300 - 35s - loss: 0.0584 - accuracy: 0.9822 - val_loss: 0.0330 - val_accuracy: 0.9893 - 35s/epoch - 118ms/step\n",
            "Epoch 5/10\n",
            "300/300 - 35s - loss: 0.0487 - accuracy: 0.9848 - val_loss: 0.0284 - val_accuracy: 0.9902 - 35s/epoch - 118ms/step\n",
            "Epoch 6/10\n",
            "300/300 - 35s - loss: 0.0431 - accuracy: 0.9867 - val_loss: 0.0308 - val_accuracy: 0.9902 - 35s/epoch - 117ms/step\n",
            "Epoch 7/10\n",
            "300/300 - 35s - loss: 0.0367 - accuracy: 0.9884 - val_loss: 0.0267 - val_accuracy: 0.9917 - 35s/epoch - 118ms/step\n",
            "Epoch 8/10\n",
            "300/300 - 35s - loss: 0.0330 - accuracy: 0.9896 - val_loss: 0.0247 - val_accuracy: 0.9917 - 35s/epoch - 118ms/step\n",
            "Epoch 9/10\n",
            "300/300 - 36s - loss: 0.0297 - accuracy: 0.9907 - val_loss: 0.0264 - val_accuracy: 0.9911 - 36s/epoch - 118ms/step\n",
            "Epoch 10/10\n",
            "300/300 - 35s - loss: 0.0293 - accuracy: 0.9907 - val_loss: 0.0287 - val_accuracy: 0.9915 - 35s/epoch - 116ms/step\n",
            "CNN Error: 0.85%\n"
          ]
        }
      ]
    }
  ]
}