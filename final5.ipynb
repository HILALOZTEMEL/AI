{
 "cells": [
  {
   "cell_type": "code",
   "execution_count": 2,
   "id": "a507e17d",
   "metadata": {},
   "outputs": [],
   "source": [
    "# kütüohane çağır\n",
    "\n",
    "import numpy as np\n",
    "from collections import defaultdict\n",
    "from sklearn.cluster import KMeans\n",
    "\n"
   ]
  },
  {
   "cell_type": "code",
   "execution_count": 12,
   "id": "ae3baa0e",
   "metadata": {},
   "outputs": [
    {
     "name": "stdout",
     "output_type": "stream",
     "text": [
      "Cluster Name: 0\n",
      "      Data  [0.6809601  0.96330876]\n",
      "      Data  [0.87245194 0.64442175]\n",
      "Cluster Name: 1\n",
      "      Data  [0.12241881 0.99671058]\n",
      "      Data  [0.01004279 0.76162484]\n",
      "Cluster Name: 2\n",
      "      Data  [0.7049081  0.19501075]\n",
      "      Data  [0.3621606  0.46068789]\n",
      "      Data  [0.59875931 0.18316783]\n"
     ]
    }
   ],
   "source": [
    "#küme sayısı belirlendi \n",
    "NUMBER_CLUSTERS=3\n",
    "\n",
    "#rastgele veri seti oluşturuldu\n",
    "random_dataset=np.random.rand(7,2)\n",
    "\n",
    "#kümeleme işlemi başladı\n",
    "kmeans=KMeans(n_clusters=NUMBER_CLUSTERS).fit(random_dataset)\n",
    "\n",
    "#veri kümeleme tahmini\n",
    "clusters=defaultdict(list)\n",
    "for i,l in enumerate(kmeans.labels_):\n",
    "    clusters[l].append(random_dataset[i])\n",
    "    \n",
    "# sonuç göster\n",
    "for cluster_name in sorted(clusters):\n",
    "    print(\"Cluster Name: {}\".format(cluster_name))\n",
    "    \n",
    "    for data in clusters[cluster_name]:\n",
    "        print(\"      Data  {}\".format(data))\n"
   ]
  },
  {
   "cell_type": "code",
   "execution_count": null,
   "id": "c6aae928",
   "metadata": {},
   "outputs": [],
   "source": []
  }
 ],
 "metadata": {
  "kernelspec": {
   "display_name": "Python 3",
   "language": "python",
   "name": "python3"
  },
  "language_info": {
   "codemirror_mode": {
    "name": "ipython",
    "version": 3
   },
   "file_extension": ".py",
   "mimetype": "text/x-python",
   "name": "python",
   "nbconvert_exporter": "python",
   "pygments_lexer": "ipython3",
   "version": "3.8.8"
  }
 },
 "nbformat": 4,
 "nbformat_minor": 5
}
