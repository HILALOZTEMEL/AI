{
  "nbformat": 4,
  "nbformat_minor": 0,
  "metadata": {
    "colab": {
      "name": "BasicCNNstructere.ipynb",
      "provenance": [],
      "authorship_tag": "ABX9TyP45XNs4omfx/y2aBN33J3G",
      "include_colab_link": true
    },
    "kernelspec": {
      "name": "python3",
      "display_name": "Python 3"
    },
    "language_info": {
      "name": "python"
    }
  },
  "cells": [
    {
      "cell_type": "markdown",
      "metadata": {
        "id": "view-in-github",
        "colab_type": "text"
      },
      "source": [
        "<a href=\"https://colab.research.google.com/github/HILALOZTEMEL/AI/blob/main/BasicCNNstructere.ipynb\" target=\"_parent\"><img src=\"https://colab.research.google.com/assets/colab-badge.svg\" alt=\"Open In Colab\"/></a>"
      ]
    },
    {
      "cell_type": "code",
      "execution_count": 3,
      "metadata": {
        "id": "e3XsiRt0KzgS"
      },
      "outputs": [],
      "source": [
        "from keras.datasets import mnist\n",
        "from keras.models import Sequential\n",
        "from keras.layers import Dense\n",
        "from keras.layers import Dropout\n",
        "from keras.layers import Flatten\n",
        "from keras.layers.convolutional import Conv2D\n",
        "from keras.layers.convolutional import MaxPooling2D\n",
        "from keras.utils import np_utils"
      ]
    },
    {
      "cell_type": "code",
      "source": [
        "#load data\n",
        "(X_train,y_train),(X_test,y_test)=mnist.load_data()\n",
        "\n",
        "#reshape to be [samples][width][height][channels]\n",
        "X_train=X_train.reshape(X_train.shape[0],28,28,1).astype('float32')\n",
        "X_test=X_test.reshape(X_test.shape[0],28,28,1).astype('float32')"
      ],
      "metadata": {
        "id": "LI7YzcRpOpEu"
      },
      "execution_count": 6,
      "outputs": []
    },
    {
      "cell_type": "code",
      "source": [
        "#normalize inputs from 0-255 to 0-1\n",
        "X_train=X_train/255\n",
        "X_test=X_test/255\n",
        "\n",
        "#one hot encode outputs\n",
        "y_train=np_utils.to_categorical(y_train)\n",
        "y_test=np_utils.to_categorical(y_test)\n",
        "num_classes=y_test.shape[1]"
      ],
      "metadata": {
        "id": "7lzwG-T4SkDX"
      },
      "execution_count": 7,
      "outputs": []
    },
    {
      "cell_type": "code",
      "source": [
        "def baseline_model():\n",
        "  #create model\n",
        "  model=Sequential()\n",
        "  model.add(Conv2D(32,(5,5),input_shape=(28,28,1),activation ='relu'))\n",
        "  model.add(MaxPooling2D(pool_size=(2,2)))\n",
        "  model.add(Dropout(0.2))\n",
        "  model.add(Flatten())\n",
        "  model.add(Dense(128,activation='relu'))\n",
        "  model.add(Dense(num_classes,activation='softmax'))\n",
        "  \n",
        "  #compile model\n",
        "  model.compile(loss='categorical_crossentropy',optimizer='adam',metrics=['accuracy'])\n",
        "  return model"
      ],
      "metadata": {
        "id": "ZE4Jt1eSTOmO"
      },
      "execution_count": 17,
      "outputs": []
    },
    {
      "cell_type": "code",
      "source": [
        "#build model\n",
        "model=baseline_model()\n",
        "\n",
        "#fit the models\n",
        "model.fit(X_train,y_train,validation_data=(X_test,y_test),epochs=10,batch_size=200, verbose=2)\n",
        "\n",
        "#Finall evalution of the model\n",
        "\n",
        "scores = model.evaluate(X_test, y_test, verbose=0)\n",
        "print(\"CNN Error: %.2f%%\" % (100-scores[1]*100))"
      ],
      "metadata": {
        "colab": {
          "base_uri": "https://localhost:8080/"
        },
        "id": "pdDyob6jXRns",
        "outputId": "5c528b01-c231-42e1-f028-9cf44fc740aa"
      },
      "execution_count": 18,
      "outputs": [
        {
          "output_type": "stream",
          "name": "stdout",
          "text": [
            "Epoch 1/10\n",
            "300/300 - 29s - loss: 0.2431 - accuracy: 0.9322 - val_loss: 0.0935 - val_accuracy: 0.9719 - 29s/epoch - 98ms/step\n",
            "Epoch 2/10\n",
            "300/300 - 28s - loss: 0.0741 - accuracy: 0.9779 - val_loss: 0.0528 - val_accuracy: 0.9823 - 28s/epoch - 95ms/step\n",
            "Epoch 3/10\n",
            "300/300 - 28s - loss: 0.0528 - accuracy: 0.9838 - val_loss: 0.0373 - val_accuracy: 0.9875 - 28s/epoch - 94ms/step\n",
            "Epoch 4/10\n",
            "300/300 - 28s - loss: 0.0398 - accuracy: 0.9875 - val_loss: 0.0382 - val_accuracy: 0.9870 - 28s/epoch - 94ms/step\n",
            "Epoch 5/10\n",
            "300/300 - 28s - loss: 0.0319 - accuracy: 0.9903 - val_loss: 0.0353 - val_accuracy: 0.9882 - 28s/epoch - 94ms/step\n",
            "Epoch 6/10\n",
            "300/300 - 28s - loss: 0.0282 - accuracy: 0.9911 - val_loss: 0.0340 - val_accuracy: 0.9879 - 28s/epoch - 94ms/step\n",
            "Epoch 7/10\n",
            "300/300 - 28s - loss: 0.0225 - accuracy: 0.9930 - val_loss: 0.0335 - val_accuracy: 0.9887 - 28s/epoch - 94ms/step\n",
            "Epoch 8/10\n",
            "300/300 - 28s - loss: 0.0180 - accuracy: 0.9942 - val_loss: 0.0313 - val_accuracy: 0.9897 - 28s/epoch - 94ms/step\n",
            "Epoch 9/10\n",
            "300/300 - 28s - loss: 0.0152 - accuracy: 0.9952 - val_loss: 0.0392 - val_accuracy: 0.9880 - 28s/epoch - 95ms/step\n",
            "Epoch 10/10\n",
            "300/300 - 28s - loss: 0.0135 - accuracy: 0.9957 - val_loss: 0.0320 - val_accuracy: 0.9894 - 28s/epoch - 94ms/step\n",
            "CNN Error: 1.06%\n"
          ]
        }
      ]
    },
    {
      "cell_type": "code",
      "source": [
        ""
      ],
      "metadata": {
        "id": "N-t9vzJPZdct"
      },
      "execution_count": null,
      "outputs": []
    }
  ]
}