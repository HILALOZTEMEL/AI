{
 "cells": [
  {
   "cell_type": "code",
   "execution_count": 1,
   "id": "7b716c85",
   "metadata": {},
   "outputs": [],
   "source": [
    "import pandas as pd\n",
    "from sklearn import linear_model"
   ]
  },
  {
   "cell_type": "code",
   "execution_count": 3,
   "id": "83be2d04",
   "metadata": {},
   "outputs": [
    {
     "ename": "SyntaxError",
     "evalue": "invalid syntax (<ipython-input-3-99bdcee2a666>, line 5)",
     "output_type": "error",
     "traceback": [
      "\u001b[1;36m  File \u001b[1;32m\"<ipython-input-3-99bdcee2a666>\"\u001b[1;36m, line \u001b[1;32m5\u001b[0m\n\u001b[1;33m    setosa=iris[iris.species==\"Iris-setosa\"]\u001b[0m\n\u001b[1;37m    ^\u001b[0m\n\u001b[1;31mSyntaxError\u001b[0m\u001b[1;31m:\u001b[0m invalid syntax\n"
     ]
    }
   ],
   "source": [
    "iris = pd.read_csv(\"https://archive.ics.uci.edu/ml/machine-learning-databases/iris/iris.data\",\n",
    "names = ['sepal_length', 'sepal_width', 'petal_length', 'pedal_width', 'species'\n",
    "\n",
    "#veri seti hazırlama işlemi\n",
    "setosa=iris[iris.species==\"Iris-setosa\"]\n",
    "x=setosa['sepal_length'].values.reshape(-1,-1)\n",
    "y=setosa['sepal_width'].values.reshape(-1,-1)"
   ]
  },
  {
   "cell_type": "code",
   "execution_count": null,
   "id": "e5b4e46a",
   "metadata": {},
   "outputs": [],
   "source": [
    "#"
   ]
  }
 ],
 "metadata": {
  "kernelspec": {
   "display_name": "Python 3",
   "language": "python",
   "name": "python3"
  },
  "language_info": {
   "codemirror_mode": {
    "name": "ipython",
    "version": 3
   },
   "file_extension": ".py",
   "mimetype": "text/x-python",
   "name": "python",
   "nbconvert_exporter": "python",
   "pygments_lexer": "ipython3",
   "version": "3.8.8"
  }
 },
 "nbformat": 4,
 "nbformat_minor": 5
}
